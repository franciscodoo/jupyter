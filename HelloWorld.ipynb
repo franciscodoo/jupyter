{
    "metadata": {
        "kernelspec": {
            "name": "SQL",
            "display_name": "SQL",
            "language": "sql"
        },
        "language_info": {
            "name": "sql",
            "version": ""
        }
    },
    "nbformat_minor": 2,
    "nbformat": 4,
    "cells": [
        {
            "cell_type": "markdown",
            "source": [
                "bla bla bla\n",
                "\n",
                "## \"I Feel Gassy\" - Jupiter \n",
                "\n",
                "query"
            ],
            "metadata": {
                "azdata_cell_guid": "2c0e2248-0a0b-41b9-a613-816e881aca42"
            }
        },
        {
            "cell_type": "code",
            "source": [
                "SELECT TOP 10\r\n",
                "\tDisplayName,\r\n",
                "\tLocation, \r\n",
                "\tReputation\r\n",
                "FROM \r\n",
                "\tUsers\r\n",
                "ORDER BY\r\n",
                "\tReputation DESC\r\n",
                ""
            ],
            "metadata": {
                "azdata_cell_guid": "2c4a42c8-193f-46c0-ae8b-634a4dbdf01d",
                "tags": []
            },
            "outputs": [
{
    "output_type": "display_data",
    "data": {
        "text/html": "(10 rows affected)"
    },
    "metadata": {}
}, {
    "output_type": "display_data",
    "data": {
        "text/html": "Total execution time: 00:00:00.458"
    },
    "metadata": {}
}, {
    "output_type": "execute_result",
    "metadata": {},
    "execution_count": 1,
    "data": {
        "application/vnd.dataresource+json": {
            "schema": {
                "fields": [
                    {
                        "name": "DisplayName"
                    },
                    {
                        "name": "Location"
                    },
                    {
                        "name": "Reputation"
                    }
                ]
            },
            "data": [
                {
                    "0": "Jon Skeet",
                    "1": "Reading, United Kingdom",
                    "2": "1047863"
                },
                {
                    "0": "BalusC",
                    "1": "Willemstad, Curaçao",
                    "2": "818687"
                },
                {
                    "0": "Darin Dimitrov",
                    "1": "Sofia, Bulgaria",
                    "2": "814505"
                },
                {
                    "0": "VonC",
                    "1": "France",
                    "2": "800368"
                },
                {
                    "0": "Hans Passant",
                    "1": "Madison, WI",
                    "2": "768855"
                },
                {
                    "0": "Marc Gravell",
                    "1": "Forest of Dean, United Kingdom",
                    "2": "754947"
                },
                {
                    "0": "CommonsWare",
                    "1": "Pennsylvania, United States",
                    "2": "742577"
                },
                {
                    "0": "Martijn Pieters",
                    "1": "Cambridge, United Kingdom",
                    "2": "669040"
                },
                {
                    "0": "SLaks",
                    "1": "New Jersey",
                    "2": "658737"
                },
                {
                    "0": "T.J. Crowder",
                    "1": "United Kingdom",
                    "2": "648420"
                }
            ]
        },
        "text/html": [
            "<table>",
            "<tr><th>DisplayName</th><th>Location</th><th>Reputation</th></tr>",
            "<tr><td>Jon Skeet</td><td>Reading, United Kingdom</td><td>1047863</td></tr>",
            "<tr><td>BalusC</td><td>Willemstad, Curaçao</td><td>818687</td></tr>",
            "<tr><td>Darin Dimitrov</td><td>Sofia, Bulgaria</td><td>814505</td></tr>",
            "<tr><td>VonC</td><td>France</td><td>800368</td></tr>",
            "<tr><td>Hans Passant</td><td>Madison, WI</td><td>768855</td></tr>",
            "<tr><td>Marc Gravell</td><td>Forest of Dean, United Kingdom</td><td>754947</td></tr>",
            "<tr><td>CommonsWare</td><td>Pennsylvania, United States</td><td>742577</td></tr>",
            "<tr><td>Martijn Pieters</td><td>Cambridge, United Kingdom</td><td>669040</td></tr>",
            "<tr><td>SLaks</td><td>New Jersey</td><td>658737</td></tr>",
            "<tr><td>T.J. Crowder</td><td>United Kingdom</td><td>648420</td></tr>",
            "</table>"
        ]
    }
}
],
            "execution_count": 1
        },
        {
            "cell_type": "markdown",
            "source": [
                "## \"Size Doesn't Matter\" - Pluto\n",
                "aasasasass"
            ],
            "metadata": {
                "azdata_cell_guid": "f7ba8fda-a3b1-49c6-8aef-579e03d654c8"
            }
        },
        {
            "cell_type": "markdown",
            "source": [
                "## Uranus Was Explored Once \n",
                "## <span style=\"font-size: 14px;\">aslashajs</span>"
            ],
            "metadata": {
                "azdata_cell_guid": "7647e01a-dea6-4c2b-a200-0879efbeb41d"
            }
        },
        {
            "cell_type": "code",
            "source": [
                "SELECT TOP 10\r\n",
                "    DisplayName,\r\n",
                "    Reputation\r\n",
                "FROM \r\n",
                "    Users\r\n",
                "ORDER BY\r\n",
                "    Reputation DESC"
            ],
            "metadata": {
                "azdata_cell_guid": "24c017d5-7cc9-4f1e-9076-275bb9a5b7ab"
            },
            "outputs": [
                {
                    "output_type": "display_data",
                    "data": {
                        "text/html": "(10 rows affected)"
                    },
                    "metadata": {}
                },
                {
                    "output_type": "display_data",
                    "data": {
                        "text/html": "Total execution time: 00:00:00.009"
                    },
                    "metadata": {}
                },
                {
                    "output_type": "execute_result",
                    "metadata": {
                        "azdata_chartOptions": {
                            "type": "horizontalBar",
                            "dataDirection": "vertical",
                            "columnsAsLabels": true,
                            "labelFirstColumn": false,
                            "legendPosition": "bottom",
                            "encoding": "hex",
                            "imageFormat": "jpeg"
                        }
                    },
                    "execution_count": 2,
                    "data": {
                        "application/vnd.dataresource+json": {
                            "schema": {
                                "fields": [
                                    {
                                        "name": "DisplayName"
                                    },
                                    {
                                        "name": "Reputation"
                                    }
                                ]
                            },
                            "data": [
                                {
                                    "0": "Jon Skeet",
                                    "1": "1047863"
                                },
                                {
                                    "0": "BalusC",
                                    "1": "818687"
                                },
                                {
                                    "0": "Darin Dimitrov",
                                    "1": "814505"
                                },
                                {
                                    "0": "VonC",
                                    "1": "800368"
                                },
                                {
                                    "0": "Hans Passant",
                                    "1": "768855"
                                },
                                {
                                    "0": "Marc Gravell",
                                    "1": "754947"
                                },
                                {
                                    "0": "CommonsWare",
                                    "1": "742577"
                                },
                                {
                                    "0": "Martijn Pieters",
                                    "1": "669040"
                                },
                                {
                                    "0": "SLaks",
                                    "1": "658737"
                                },
                                {
                                    "0": "T.J. Crowder",
                                    "1": "648420"
                                }
                            ]
                        },
                        "text/html": [
                            "<table>",
                            "<tr><th>DisplayName</th><th>Reputation</th></tr>",
                            "<tr><td>Jon Skeet</td><td>1047863</td></tr>",
                            "<tr><td>BalusC</td><td>818687</td></tr>",
                            "<tr><td>Darin Dimitrov</td><td>814505</td></tr>",
                            "<tr><td>VonC</td><td>800368</td></tr>",
                            "<tr><td>Hans Passant</td><td>768855</td></tr>",
                            "<tr><td>Marc Gravell</td><td>754947</td></tr>",
                            "<tr><td>CommonsWare</td><td>742577</td></tr>",
                            "<tr><td>Martijn Pieters</td><td>669040</td></tr>",
                            "<tr><td>SLaks</td><td>658737</td></tr>",
                            "<tr><td>T.J. Crowder</td><td>648420</td></tr>",
                            "</table>"
                        ]
                    }
                }
            ],
            "execution_count": 2
        }
    ]
}